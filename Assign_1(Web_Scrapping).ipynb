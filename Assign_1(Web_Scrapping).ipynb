{
  "nbformat": 4,
  "nbformat_minor": 0,
  "metadata": {
    "colab": {
      "name": "Assign_1(Web_Scrapping).ipynb",
      "provenance": [],
      "collapsed_sections": [
        "KzoUTUo6lV-C",
        "K4VYK05hlV-X",
        "F8iqHSV1lV-2"
      ],
      "include_colab_link": true
    },
    "kernelspec": {
      "display_name": "Python 3",
      "language": "python",
      "name": "python3"
    },
    "language_info": {
      "codemirror_mode": {
        "name": "ipython",
        "version": 3
      },
      "file_extension": ".py",
      "mimetype": "text/x-python",
      "name": "python",
      "nbconvert_exporter": "python",
      "pygments_lexer": "ipython3",
      "version": "3.7.4"
    }
  },
  "cells": [
    {
      "cell_type": "markdown",
      "metadata": {
        "id": "view-in-github",
        "colab_type": "text"
      },
      "source": [
        "<a href=\"https://colab.research.google.com/github/divas-jindal/Data-Science-Assignments/blob/master/Assign_1(Web_Scrapping).ipynb\" target=\"_parent\"><img src=\"https://colab.research.google.com/assets/colab-badge.svg\" alt=\"Open In Colab\"/></a>"
      ]
    },
    {
      "cell_type": "markdown",
      "metadata": {
        "colab_type": "text",
        "id": "rXD4pnLulV9W"
      },
      "source": [
        "# Data Engineering\n"
      ]
    },
    {
      "cell_type": "markdown",
      "metadata": {
        "id": "jIOWta4x68aT",
        "colab_type": "text"
      },
      "source": [
        "#### Welcome to the Data Engineering Assignment of Summer Analytics 2020. This assignment is primarily based on Web-Scraping, but knowledge of other libraries (Numpy, Pandas) is essential for completion of the assignment. So make sure that you attempt this assignment only after you complete all the 5 days of Week 1"
      ]
    },
    {
      "cell_type": "markdown",
      "metadata": {
        "colab_type": "text",
        "id": "7XDBpzBjlV9X"
      },
      "source": [
        "## Retrieving data from the web"
      ]
    },
    {
      "cell_type": "markdown",
      "metadata": {
        "colab_type": "text",
        "id": "-uaZk6l3lV9X"
      },
      "source": [
        "### requests\n",
        "\n",
        "The first task is to retrieve some data from the Internet. Python has many built-in libraries that were developed over the years to do exactly that (e.g. urllib, urllib2, urllib3).\n",
        "\n",
        "However, these libraries are very low-level and somewhat hard to use. They become especially cumbersome when you need to issue POST requests or authenticate against a web service.\n",
        "\n",
        "Luckly, as with most tasks in Python, someone has developed a library that simplifies these tasks. In reality, the requests made both on this assignment are fairly simple, and could easily be done using one of the built-in libraries. However, it is better to get acquainted to `requests` as soon as possible, since you will probably need it in the future."
      ]
    },
    {
      "cell_type": "code",
      "metadata": {
        "colab_type": "code",
        "id": "FxcJAU4plV9Y",
        "colab": {}
      },
      "source": [
        "# You tell Python that you want to use a library with the import statement.\n",
        "import requests"
      ],
      "execution_count": 0,
      "outputs": []
    },
    {
      "cell_type": "markdown",
      "metadata": {
        "colab_type": "text",
        "id": "lPeOV8Z8lV9b"
      },
      "source": [
        "Now that the requests library was imported into our namespace, we can use the functions offered by it.\n",
        "\n",
        "In this case we'll use the appropriately named `get` function to issue a *GET* request. This is equivalent to typing a URL into your browser and hitting enter."
      ]
    },
    {
      "cell_type": "code",
      "metadata": {
        "colab_type": "code",
        "id": "X5ezX4D6lV9c",
        "colab": {}
      },
      "source": [
        "# Get the HU Wikipedia page\n",
        "req = requests.get(\"https://en.wikipedia.org/wiki/Harvard_University\")"
      ],
      "execution_count": 0,
      "outputs": []
    },
    {
      "cell_type": "markdown",
      "metadata": {
        "colab_type": "text",
        "id": "Qp5f0iI4lV9f"
      },
      "source": [
        "Another very nifty Python function is `dir`. You can use it to list all the properties of an object.\n"
      ]
    },
    {
      "cell_type": "code",
      "metadata": {
        "colab_type": "code",
        "id": "fHLQCt4LlV9f",
        "colab": {}
      },
      "source": [
        "dir(req)"
      ],
      "execution_count": 0,
      "outputs": []
    },
    {
      "cell_type": "markdown",
      "metadata": {
        "colab_type": "text",
        "id": "3tKlDZhnlV9i"
      },
      "source": [
        "Right now `req` holds a reference to a *Request* object; but we are interested in the text associated with the web page, not the object itself.\n",
        "\n",
        "So the next step is to assign the value of the `text` property of this `Request` object to a variable."
      ]
    },
    {
      "cell_type": "code",
      "metadata": {
        "colab_type": "code",
        "id": "_ALSXUOmlV9j",
        "colab": {}
      },
      "source": [
        "page = req.text\n",
        "page"
      ],
      "execution_count": 0,
      "outputs": []
    },
    {
      "cell_type": "markdown",
      "metadata": {
        "colab_type": "text",
        "id": "XTKvFbQflV9l"
      },
      "source": [
        "Great! Now we have the text of the HU Wikipedia page. But this mess of HTML tags would be a pain to parse manually. Which is why we will use another very cool Python library called BeautifulSoup."
      ]
    },
    {
      "cell_type": "markdown",
      "metadata": {
        "colab_type": "text",
        "id": "QHbaowAQlV9m"
      },
      "source": [
        "### BeautifulSoup\n",
        "\n",
        "Parsing data would be a breeze if we could always use well formatted data sources, such as CSV, JSON, or XML; but some formats such as HTML are at the same time a very popular and a pain to parse.\n",
        "\n",
        "One of the problems with HTML is that over the years browsers have evolved to be very forgiving of \"malformed\" syntax. Your browser is smart enough to detect some common problems, such as open tags, and correct them on the fly.\n",
        "\n",
        "Unfortunately, we do not have the time or patience to implement all the different corner cases, so we'll let BeautifulSoup do that for us.\n"
      ]
    },
    {
      "cell_type": "markdown",
      "metadata": {
        "colab_type": "text",
        "id": "EwaIhp4-lV9m"
      },
      "source": [
        "# 1) Import BeautifulSoup"
      ]
    },
    {
      "cell_type": "code",
      "metadata": {
        "colab_type": "code",
        "id": "UVf4tQVwlV9m",
        "colab": {}
      },
      "source": [
        "from bs4 import BeautifulSoup"
      ],
      "execution_count": 0,
      "outputs": []
    },
    {
      "cell_type": "markdown",
      "metadata": {
        "colab_type": "text",
        "id": "YW5H9wQolV9p"
      },
      "source": [
        "BeautifulSoup can deal with HTML or XML data, so the next line parser the contents of the `page` variable using its HTML parser, and assigns the result of that to the `soup` variable."
      ]
    },
    {
      "cell_type": "markdown",
      "metadata": {
        "colab_type": "text",
        "id": "W4qMWAjjlV9q"
      },
      "source": [
        "# 2) Create a Soup variable to store the parsed contents of the page"
      ]
    },
    {
      "cell_type": "code",
      "metadata": {
        "colab_type": "code",
        "id": "ETgsZQ54lV9q",
        "colab": {}
      },
      "source": [
        "# Your Code Here\n",
        "soup = BeautifulSoup(page)"
      ],
      "execution_count": 0,
      "outputs": []
    },
    {
      "cell_type": "markdown",
      "metadata": {
        "colab_type": "text",
        "id": "A44wD93llV9t"
      },
      "source": [
        "Let's check the string representation of the `soup` object."
      ]
    },
    {
      "cell_type": "code",
      "metadata": {
        "colab_type": "code",
        "id": "U1Yc1O0wlV9t",
        "colab": {
          "base_uri": "https://localhost:8080/",
          "height": 50
        },
        "outputId": "db297f1e-4b6e-48c5-a11b-3e6164bed9c1"
      },
      "source": [
        "soup.title.text\n",
        "soup_s = (soup.text)\n",
        "ls  = (str(soup_s)).split()\n",
        "print(ls[10])\n",
        "print(ls[50])\n"
      ],
      "execution_count": 113,
      "outputs": [
        {
          "output_type": "stream",
          "text": [
            "links\",\"CS1:\n",
            "university\n"
          ],
          "name": "stdout"
        }
      ]
    },
    {
      "cell_type": "markdown",
      "metadata": {
        "colab_type": "text",
        "id": "yeiPGaJLlV9w"
      },
      "source": [
        "Doesn't look much different from the `page` object representation. Let's make sure the two are different types."
      ]
    },
    {
      "cell_type": "code",
      "metadata": {
        "colab_type": "code",
        "id": "XpB2HMKQlV9w",
        "colab": {
          "base_uri": "https://localhost:8080/",
          "height": 33
        },
        "outputId": "5b41963a-954c-40f3-b429-2431e902e96c"
      },
      "source": [
        "type(page)"
      ],
      "execution_count": 11,
      "outputs": [
        {
          "output_type": "execute_result",
          "data": {
            "text/plain": [
              "str"
            ]
          },
          "metadata": {
            "tags": []
          },
          "execution_count": 11
        }
      ]
    },
    {
      "cell_type": "code",
      "metadata": {
        "colab_type": "code",
        "id": "DXQkdjPYlV9z",
        "colab": {
          "base_uri": "https://localhost:8080/",
          "height": 33
        },
        "outputId": "af72aa74-adfe-4546-eeea-043cdb53b693"
      },
      "source": [
        "type(soup)"
      ],
      "execution_count": 12,
      "outputs": [
        {
          "output_type": "execute_result",
          "data": {
            "text/plain": [
              "bs4.BeautifulSoup"
            ]
          },
          "metadata": {
            "tags": []
          },
          "execution_count": 12
        }
      ]
    },
    {
      "cell_type": "markdown",
      "metadata": {
        "colab_type": "text",
        "id": "guVuqnfVlV92"
      },
      "source": [
        "Looks like they are indeed different."
      ]
    },
    {
      "cell_type": "markdown",
      "metadata": {
        "colab_type": "text",
        "id": "qGosO-26lV92"
      },
      "source": [
        "# 3) Display the title of the webpage"
      ]
    },
    {
      "cell_type": "markdown",
      "metadata": {
        "colab_type": "text",
        "id": "Hel9PQeYlV92"
      },
      "source": [
        "### Expected Output\n",
        "```\n",
        "<title>Harvard University - Wikipedia, the free encyclopedia</title>\n",
        "```"
      ]
    },
    {
      "cell_type": "code",
      "metadata": {
        "colab_type": "code",
        "id": "zlq9qwTxlV93",
        "colab": {
          "base_uri": "https://localhost:8080/",
          "height": 33
        },
        "outputId": "67578144-347d-4717-92e1-0efdf35ea9f1"
      },
      "source": [
        "# Your Code Here\n",
        "soup.find('title').text"
      ],
      "execution_count": 13,
      "outputs": [
        {
          "output_type": "execute_result",
          "data": {
            "text/plain": [
              "'Harvard University - Wikipedia'"
            ]
          },
          "metadata": {
            "tags": []
          },
          "execution_count": 13
        }
      ]
    },
    {
      "cell_type": "markdown",
      "metadata": {
        "colab_type": "text",
        "id": "-sXMqir5lV95"
      },
      "source": [
        "This is nice for HTML elements that only appear once per page, such the the `title` tag. But what about elements that can appear multiple times?"
      ]
    },
    {
      "cell_type": "markdown",
      "metadata": {
        "colab_type": "text",
        "id": "IWCsGEtNlV95"
      },
      "source": [
        "# 4) Display all p tags from the webpage"
      ]
    },
    {
      "cell_type": "markdown",
      "metadata": {
        "colab_type": "text",
        "id": "_SrRxjBMlV96"
      },
      "source": [
        "#### You may use find_all method!"
      ]
    },
    {
      "cell_type": "code",
      "metadata": {
        "colab_type": "code",
        "id": "S-IDFqAblV96",
        "colab": {}
      },
      "source": [
        "# Be careful with elements that show up multiple times.\n",
        "# Your Code Here\n",
        "p_tag = soup.find_all('p')\n",
        "print(p_tag)"
      ],
      "execution_count": 0,
      "outputs": []
    },
    {
      "cell_type": "markdown",
      "metadata": {
        "colab_type": "text",
        "id": "O527OjrFlV99"
      },
      "source": [
        "# 5) How may p tags are present?"
      ]
    },
    {
      "cell_type": "code",
      "metadata": {
        "colab_type": "code",
        "id": "VENpIgJylV99",
        "colab": {
          "base_uri": "https://localhost:8080/",
          "height": 33
        },
        "outputId": "a25327cf-aa7d-4cab-ac78-f676604e6daa"
      },
      "source": [
        "# Your Code Here\n",
        "len(p_tag)"
      ],
      "execution_count": 15,
      "outputs": [
        {
          "output_type": "execute_result",
          "data": {
            "text/plain": [
              "85"
            ]
          },
          "metadata": {
            "tags": []
          },
          "execution_count": 15
        }
      ]
    },
    {
      "cell_type": "markdown",
      "metadata": {
        "colab_type": "text",
        "id": "0e3gFB18lV9_"
      },
      "source": [
        "---"
      ]
    },
    {
      "cell_type": "markdown",
      "metadata": {
        "colab_type": "text",
        "id": "aTiPovJXlV9_"
      },
      "source": [
        "If you look at the Wikipedia page on your browser, you'll notice that it has a couple of tables in it. We will be working with the \"Demographics\" table, but first we need to find it.\n",
        "\n",
        "One of the HTML attributes that will be very useful to us is the \"class\" attribute.\n",
        "\n",
        "Getting the class of a single element is easy..."
      ]
    },
    {
      "cell_type": "code",
      "metadata": {
        "colab_type": "code",
        "id": "YUbXHoK6lV-A",
        "colab": {
          "base_uri": "https://localhost:8080/",
          "height": 33
        },
        "outputId": "18915f9b-8a82-416b-9df1-4c1691ab5415"
      },
      "source": [
        "soup.table[\"class\"]"
      ],
      "execution_count": 16,
      "outputs": [
        {
          "output_type": "execute_result",
          "data": {
            "text/plain": [
              "['infobox', 'vcard']"
            ]
          },
          "metadata": {
            "tags": []
          },
          "execution_count": 16
        }
      ]
    },
    {
      "cell_type": "markdown",
      "metadata": {
        "colab_type": "text",
        "id": "KzoUTUo6lV-C"
      },
      "source": [
        "---\n",
        "\n",
        "### List Comprehensions\n",
        "\n",
        "Next we will use a list comprehension to see all the tables that have a \"class\" attributes. List comprehensions are a very cool Python feature that allows for a loop iteration and a list creation in a single line.\n",
        "\n",
        "As a quick guide you may refer to https://www.youtube.com/watch?v=AhSvKGTh28Q. "
      ]
    },
    {
      "cell_type": "markdown",
      "metadata": {
        "colab_type": "text",
        "id": "acLP3SvSlV-D"
      },
      "source": [
        "# 6) Create a nested list containing classes of all the table tags"
      ]
    },
    {
      "cell_type": "markdown",
      "metadata": {
        "colab_type": "text",
        "id": "ruacfB_glV-D"
      },
      "source": [
        "### Expected Output"
      ]
    },
    {
      "cell_type": "markdown",
      "metadata": {
        "colab_type": "text",
        "id": "vbbfOQlSlV-E"
      },
      "source": [
        "```\n",
        "[['infobox', 'vcard'],\n",
        " ['toccolours'],\n",
        " ['infobox'],\n",
        " ['wikitable', 'sortable', 'collapsible', 'collapsed', 'floatright'],\n",
        " ['wikitable', 'sortable', 'collapsible', 'collapsed', 'floatright'],\n",
        " ['wikitable'],\n",
        " ['box-Cleanup_gallery', 'plainlinks', 'metadata', 'ambox', 'ambox-style'],\n",
        " ['metadata', 'mbox-small'],\n",
        " ['nowraplinks', 'mw-collapsible', 'mw-collapsed', 'navbox-inner'],\n",
        " ['nowraplinks', 'navbox-subgroup'],\n",
        " ['nowraplinks', 'navbox-subgroup'],\n",
        " ['nowraplinks', 'mw-collapsible', 'mw-collapsed', 'navbox-inner'],\n",
        " ['nowraplinks', 'mw-collapsible', 'autocollapse', 'navbox-inner'],\n",
        " ['nowraplinks', 'mw-collapsible', 'mw-collapsed', 'navbox-inner'],\n",
        " ['nowraplinks', 'mw-collapsible', 'autocollapse', 'navbox-inner'],\n",
        " ['nowraplinks', 'mw-collapsible', 'autocollapse', 'navbox-inner'],\n",
        " ['nowraplinks', 'mw-collapsible', 'autocollapse', 'navbox-inner'],\n",
        " ['nowraplinks', 'mw-collapsible', 'autocollapse', 'navbox-inner'],\n",
        " ['nowraplinks', 'mw-collapsible', 'autocollapse', 'navbox-inner'],\n",
        " ['nowraplinks', 'mw-collapsible', 'autocollapse', 'navbox-inner'],\n",
        " ['nowraplinks', 'hlist', 'mw-collapsible', 'autocollapse', 'navbox-inner'],\n",
        " ['nowraplinks', 'mw-collapsible', 'autocollapse', 'navbox-inner'],\n",
        " ['nowraplinks', 'mw-collapsible', 'autocollapse', 'navbox-inner'],\n",
        " ['nowraplinks', 'mw-collapsible', 'mw-collapsed', 'navbox-inner'],\n",
        " ['nowraplinks', 'hlist', 'mw-collapsible', 'autocollapse', 'navbox-inner'],\n",
        " ['nowraplinks', 'navbox-subgroup'],\n",
        " ['nowraplinks', 'hlist', 'navbox-inner']]\n",
        "```"
      ]
    },
    {
      "cell_type": "code",
      "metadata": {
        "colab_type": "code",
        "id": "RcdwNrL7lV-F",
        "colab": {}
      },
      "source": [
        "# Your Code Here\n",
        "tables = soup.find_all('table')\n",
        "table_class = [ table['class'] for table in tables ]\n",
        "table_class"
      ],
      "execution_count": 0,
      "outputs": []
    },
    {
      "cell_type": "markdown",
      "metadata": {
        "colab_type": "text",
        "id": "fOLdxC_FlV-J"
      },
      "source": [
        "As I mentioned, we will be using the Demographics table for this lab. The next cell contains the HTML elements of said table. We will render it in different parts of the notebook to make it easier to follow along the parsing steps."
      ]
    },
    {
      "cell_type": "markdown",
      "metadata": {
        "colab_type": "text",
        "id": "oHZQxxdqlV-K"
      },
      "source": [
        "# 7) Check the classes and find the Demographics Table\n",
        "#### Use find method to find the table using the correct class , convert it into string format and store it in table_html also stored the original form in html_soup"
      ]
    },
    {
      "cell_type": "code",
      "metadata": {
        "colab_type": "code",
        "id": "xAFCqdBdlV-K",
        "colab": {}
      },
      "source": [
        "# Your Code Here\n"
      ],
      "execution_count": 0,
      "outputs": []
    },
    {
      "cell_type": "code",
      "metadata": {
        "colab_type": "code",
        "id": "C4DDJmZblV-O",
        "colab": {
          "base_uri": "https://localhost:8080/",
          "height": 53
        },
        "outputId": "a13c8dbd-d0c0-45bf-a1b6-5c3a1d54f962"
      },
      "source": [
        "demo_table_list = [i for i in tables if i.find('i')!=None and i.find('i').text =='Demographics of student body (Fall 2019)']\n",
        "demo_table = demo_table_list[0] \n",
        "# as it creates a list \n",
        "table_html = str(demo_table)\n",
        "table_html"
      ],
      "execution_count": 31,
      "outputs": [
        {
          "output_type": "execute_result",
          "data": {
            "text/plain": [
              "'<table class=\"wikitable\" style=\"text-align:center; float:right; font-size:85%; margin-right:2em;\">\\n<caption><i>Demographics of student body (Fall 2019)</i><sup class=\"reference\" id=\"cite_ref-Head_count_159-0\"><a href=\"#cite_note-Head_count-159\">[159]</a></sup><sup class=\"reference\" id=\"cite_ref-160\"><a href=\"#cite_note-160\">[160]</a></sup><sup class=\"reference\" id=\"cite_ref-161\"><a href=\"#cite_note-161\">[161]</a></sup><sup class=\"reference\" id=\"cite_ref-162\"><a href=\"#cite_note-162\">[162]</a></sup>\\n</caption>\\n<tbody><tr>\\n<th></th>\\n<th>Undergrad</th>\\n<th>Grad/prof</th>\\n<th>US census\\n</th></tr>\\n<tr>\\n<th>Asian\\n</th>\\n<td>21%</td>\\n<td>13%</td>\\n<td>5%\\n</td></tr>\\n<tr>\\n<th>Black\\n</th>\\n<td>9%</td>\\n<td>5%</td>\\n<td>12%\\n</td></tr>\\n<tr>\\n<th>Hispanic or Latino\\n</th>\\n<td>11%</td>\\n<td>7%</td>\\n<td>16%\\n</td></tr>\\n<tr>\\n<th>White\\n</th>\\n<td>37%</td>\\n<td>38%</td>\\n<td>64%\\n</td></tr>\\n<tr>\\n<th>Two or more races\\n</th>\\n<td>8%</td>\\n<td>3%</td>\\n<td>9%\\n</td></tr>\\n<tr>\\n<th>International\\n</th>\\n<td>12%</td>\\n<td>32%</td>\\n<td>N/A\\n</td></tr></tbody></table>'"
            ]
          },
          "metadata": {
            "tags": []
          },
          "execution_count": 31
        }
      ]
    },
    {
      "cell_type": "code",
      "metadata": {
        "colab_type": "code",
        "id": "1DzOJCEllV-Q",
        "colab": {
          "base_uri": "https://localhost:8080/",
          "height": 174
        },
        "outputId": "42048a70-4832-48f8-c25a-7493f489a6ae"
      },
      "source": [
        "\n",
        "from IPython.core.display import HTML\n",
        "\n",
        "HTML(table_html)"
      ],
      "execution_count": 29,
      "outputs": [
        {
          "output_type": "execute_result",
          "data": {
            "text/html": [
              "[<table class=\"wikitable\" style=\"text-align:center; float:right; font-size:85%; margin-right:2em;\">\n",
              "<caption><i>Demographics of student body (Fall 2019)</i><sup class=\"reference\" id=\"cite_ref-Head_count_159-0\"><a href=\"#cite_note-Head_count-159\">[159]</a></sup><sup class=\"reference\" id=\"cite_ref-160\"><a href=\"#cite_note-160\">[160]</a></sup><sup class=\"reference\" id=\"cite_ref-161\"><a href=\"#cite_note-161\">[161]</a></sup><sup class=\"reference\" id=\"cite_ref-162\"><a href=\"#cite_note-162\">[162]</a></sup>\n",
              "</caption>\n",
              "<tbody><tr>\n",
              "<th></th>\n",
              "<th>Undergrad</th>\n",
              "<th>Grad/prof</th>\n",
              "<th>US census\n",
              "</th></tr>\n",
              "<tr>\n",
              "<th>Asian\n",
              "</th>\n",
              "<td>21%</td>\n",
              "<td>13%</td>\n",
              "<td>5%\n",
              "</td></tr>\n",
              "<tr>\n",
              "<th>Black\n",
              "</th>\n",
              "<td>9%</td>\n",
              "<td>5%</td>\n",
              "<td>12%\n",
              "</td></tr>\n",
              "<tr>\n",
              "<th>Hispanic or Latino\n",
              "</th>\n",
              "<td>11%</td>\n",
              "<td>7%</td>\n",
              "<td>16%\n",
              "</td></tr>\n",
              "<tr>\n",
              "<th>White\n",
              "</th>\n",
              "<td>37%</td>\n",
              "<td>38%</td>\n",
              "<td>64%\n",
              "</td></tr>\n",
              "<tr>\n",
              "<th>Two or more races\n",
              "</th>\n",
              "<td>8%</td>\n",
              "<td>3%</td>\n",
              "<td>9%\n",
              "</td></tr>\n",
              "<tr>\n",
              "<th>International\n",
              "</th>\n",
              "<td>12%</td>\n",
              "<td>32%</td>\n",
              "<td>N/A\n",
              "</td></tr></tbody></table>]"
            ],
            "text/plain": [
              "<IPython.core.display.HTML object>"
            ]
          },
          "metadata": {
            "tags": []
          },
          "execution_count": 29
        }
      ]
    },
    {
      "cell_type": "markdown",
      "metadata": {
        "colab_type": "text",
        "id": "1e3ACBh9lV-T"
      },
      "source": [
        "# 8) Extract the rows from the Demographics table and store it in rows variable"
      ]
    },
    {
      "cell_type": "markdown",
      "metadata": {
        "colab_type": "text",
        "id": "gGSUm3lqlV-U"
      },
      "source": [
        "### Expected Output\n",
        "```\n",
        "[<tr>\n",
        " <th></th>\n",
        " <th>Undergrad</th>\n",
        " <th>Grad/prof</th>\n",
        " <th>US census\n",
        " </th></tr>, <tr>\n",
        " <th>Asian\n",
        " </th>\n",
        " <td>21%</td>\n",
        " <td>13%</td>\n",
        " <td>5%\n",
        " </td></tr>, <tr>\n",
        " <th>Black\n",
        " </th>\n",
        " <td>9%</td>\n",
        " <td>5%</td>\n",
        " <td>12%\n",
        " </td></tr>, <tr>\n",
        " <th>Hispanic or Latino\n",
        " </th>\n",
        " <td>11%</td>\n",
        " <td>7%</td>\n",
        " <td>16%\n",
        " </td></tr>, <tr>\n",
        " <th>White\n",
        " </th>\n",
        " <td>37%</td>\n",
        " <td>38%</td>\n",
        " <td>64%\n",
        " </td></tr>, <tr>\n",
        " <th>Two or more races\n",
        " </th>\n",
        " <td>8%</td>\n",
        " <td>3%</td>\n",
        " <td>9%\n",
        " </td></tr>, <tr>\n",
        " <th>International\n",
        " </th>\n",
        " <td>12%</td>\n",
        " <td>32%</td>\n",
        " <td>N/A\n",
        " </td></tr>]\n",
        "```"
      ]
    },
    {
      "cell_type": "code",
      "metadata": {
        "colab_type": "code",
        "id": "e1W00hrLlV-U",
        "scrolled": true,
        "colab": {}
      },
      "source": [
        "# Your Code Here\n",
        "rows = demo_table.find_all('tr')\n",
        "rows"
      ],
      "execution_count": 0,
      "outputs": []
    },
    {
      "cell_type": "markdown",
      "metadata": {
        "colab_type": "text",
        "id": "K4VYK05hlV-X"
      },
      "source": [
        "---\n",
        "\n",
        "### lambda expressions\n",
        "\n",
        "We will then use a lambda expression to replace new line characters with spaces. Lambda expressions are to functions what list comprehensions are to lists: namely a more concise way to achieve the same thing.\n",
        "\n",
        "In reality, both lambda expressions and list comprehensions are a little different from their function and loop counterparts. But for the purposes of this class we can ignore those differences."
      ]
    },
    {
      "cell_type": "code",
      "metadata": {
        "colab_type": "code",
        "id": "xjBPQa9flV-X",
        "colab": {}
      },
      "source": [
        "# Lambda expressions return the value of the expression inside it.\n",
        "# In this case, it will return a string with new line characters replaced by spaces.\n",
        "rem_nl = lambda s: s.replace(\"\\n\", \" \")"
      ],
      "execution_count": 0,
      "outputs": []
    },
    {
      "cell_type": "markdown",
      "metadata": {
        "colab_type": "text",
        "id": "851BgCf6lV-Z"
      },
      "source": [
        "# 8) Extract the columns from the Demographics table and store it in columns variable"
      ]
    },
    {
      "cell_type": "markdown",
      "metadata": {
        "colab_type": "text",
        "id": "2d2ctECOlV-Z"
      },
      "source": [
        "### Expected Output\n",
        "```\n",
        "['Undergrad', 'Grad/prof', 'US census ']\n",
        "```"
      ]
    },
    {
      "cell_type": "code",
      "metadata": {
        "colab_type": "code",
        "id": "KWwqgo15lV-a",
        "colab": {
          "base_uri": "https://localhost:8080/",
          "height": 33
        },
        "outputId": "a1a207fd-8dd4-4b18-8ae5-96da9dec17a3"
      },
      "source": [
        "# Your Code Here\n",
        "# to avoid blank colums and -1 to end\n",
        "columns = rows[0].text.split('\\n')[2:-1]\n",
        "columns\n",
        "\n"
      ],
      "execution_count": 43,
      "outputs": [
        {
          "output_type": "execute_result",
          "data": {
            "text/plain": [
              "['Undergrad', 'Grad/prof', 'US census']"
            ]
          },
          "metadata": {
            "tags": []
          },
          "execution_count": 43
        }
      ]
    },
    {
      "cell_type": "markdown",
      "metadata": {
        "colab_type": "text",
        "id": "RdYgTEiNlV-b"
      },
      "source": [
        "Now let's do the same for the rows. Notice that since we have already parsed the header row, we will continue from the second row. The `[1:]` is a slice notation and in this case it means we want all values starting from the second position."
      ]
    },
    {
      "cell_type": "markdown",
      "metadata": {
        "colab_type": "text",
        "id": "RZ4Skq2QlV-c"
      },
      "source": [
        "# 9) Extract the indexes from the rows variable\n",
        "### Store it in a variable named indexes"
      ]
    },
    {
      "cell_type": "markdown",
      "metadata": {
        "colab_type": "text",
        "id": "TgNwKDIslV-c"
      },
      "source": [
        "### Expected Output\n",
        "```\n",
        "['Asian',\n",
        " 'Black',\n",
        " 'Hispanic or Latino',\n",
        " 'White',\n",
        " 'Two or more races',\n",
        " 'International']\n",
        "\n",
        "```"
      ]
    },
    {
      "cell_type": "code",
      "metadata": {
        "colab_type": "code",
        "id": "-KH6yroVlV-c",
        "colab": {}
      },
      "source": [
        "# Your Code Here\n",
        "indexes = [i.text.split('\\n')[1] for i in rows[1:]]"
      ],
      "execution_count": 0,
      "outputs": []
    },
    {
      "cell_type": "code",
      "metadata": {
        "colab_type": "code",
        "id": "AcZcaD1PlV-f",
        "colab": {
          "base_uri": "https://localhost:8080/",
          "height": 117
        },
        "outputId": "c4a29b21-0fb9-436f-8a82-74aaa1b43efc"
      },
      "source": [
        "indexes"
      ],
      "execution_count": 40,
      "outputs": [
        {
          "output_type": "execute_result",
          "data": {
            "text/plain": [
              "['Asian',\n",
              " 'Black',\n",
              " 'Hispanic or Latino',\n",
              " 'White',\n",
              " 'Two or more races',\n",
              " 'International']"
            ]
          },
          "metadata": {
            "tags": []
          },
          "execution_count": 40
        }
      ]
    },
    {
      "cell_type": "code",
      "metadata": {
        "colab_type": "code",
        "id": "GJxoc0kElV-h",
        "colab": {
          "base_uri": "https://localhost:8080/",
          "height": 174
        },
        "outputId": "efd8448c-515f-460c-9a14-584605c08f20"
      },
      "source": [
        "# Here's the original HTML table.\n",
        "HTML(table_html)"
      ],
      "execution_count": 41,
      "outputs": [
        {
          "output_type": "execute_result",
          "data": {
            "text/html": [
              "<table class=\"wikitable\" style=\"text-align:center; float:right; font-size:85%; margin-right:2em;\">\n",
              "<caption><i>Demographics of student body (Fall 2019)</i><sup class=\"reference\" id=\"cite_ref-Head_count_159-0\"><a href=\"#cite_note-Head_count-159\">[159]</a></sup><sup class=\"reference\" id=\"cite_ref-160\"><a href=\"#cite_note-160\">[160]</a></sup><sup class=\"reference\" id=\"cite_ref-161\"><a href=\"#cite_note-161\">[161]</a></sup><sup class=\"reference\" id=\"cite_ref-162\"><a href=\"#cite_note-162\">[162]</a></sup>\n",
              "</caption>\n",
              "<tbody><tr>\n",
              "<th></th>\n",
              "<th>Undergrad</th>\n",
              "<th>Grad/prof</th>\n",
              "<th>US census\n",
              "</th></tr>\n",
              "<tr>\n",
              "<th>Asian\n",
              "</th>\n",
              "<td>21%</td>\n",
              "<td>13%</td>\n",
              "<td>5%\n",
              "</td></tr>\n",
              "<tr>\n",
              "<th>Black\n",
              "</th>\n",
              "<td>9%</td>\n",
              "<td>5%</td>\n",
              "<td>12%\n",
              "</td></tr>\n",
              "<tr>\n",
              "<th>Hispanic or Latino\n",
              "</th>\n",
              "<td>11%</td>\n",
              "<td>7%</td>\n",
              "<td>16%\n",
              "</td></tr>\n",
              "<tr>\n",
              "<th>White\n",
              "</th>\n",
              "<td>37%</td>\n",
              "<td>38%</td>\n",
              "<td>64%\n",
              "</td></tr>\n",
              "<tr>\n",
              "<th>Two or more races\n",
              "</th>\n",
              "<td>8%</td>\n",
              "<td>3%</td>\n",
              "<td>9%\n",
              "</td></tr>\n",
              "<tr>\n",
              "<th>International\n",
              "</th>\n",
              "<td>12%</td>\n",
              "<td>32%</td>\n",
              "<td>N/A\n",
              "</td></tr></tbody></table>"
            ],
            "text/plain": [
              "<IPython.core.display.HTML object>"
            ]
          },
          "metadata": {
            "tags": []
          },
          "execution_count": 41
        }
      ]
    },
    {
      "cell_type": "markdown",
      "metadata": {
        "colab_type": "text",
        "id": "B_WOJ94QlV-j"
      },
      "source": [
        "Next we start by checking if the last character of the string (Python allows for negative indexes) is a percent sign. If that is true, then we convert the characters before the sign to integers. Lastly, if one of the prior checks fails, we return a value of None.\n",
        "\n",
        "This is a very common pattern in Python, and it works for two reasons: Python's `and` and `or` are \"short-circuit\" operators. This means that if the first element of an `and` statement evaluates to False, the second one is never computed (which in this case would be a problem since we can't convert a non-digit string to an integer). The `or` statement works the other way: if the first element evaluates to True, the second is never computed.\n",
        "\n",
        "The second reason this works is because these operators will return the value of the last expression that was evaluated, which is this case will be either the integer value or the value `None`.\n",
        "\n",
        "One last thing to notice: Python slices are open on the upper bound. So the `[:-1]` construct will return all elements of the string, except for the last."
      ]
    },
    {
      "cell_type": "markdown",
      "metadata": {
        "colab_type": "text",
        "id": "Ea2avEaklV-k"
      },
      "source": [
        "# 10) Convert the percentages to integers\n",
        "### Store it in a variable named values"
      ]
    },
    {
      "cell_type": "markdown",
      "metadata": {
        "colab_type": "text",
        "id": "EUi7-ikVlV-k"
      },
      "source": [
        "### Expected Output\n",
        "```\n",
        "[21, 13, 5, 9, 5, 12, 11, 7, 16, 37, 38, 64, 8, 3, 9, 12, 32, None]\n",
        "```"
      ]
    },
    {
      "cell_type": "code",
      "metadata": {
        "colab_type": "code",
        "id": "o4_XUfDIlV-k",
        "colab": {
          "base_uri": "https://localhost:8080/",
          "height": 33
        },
        "outputId": "612c56b4-1800-48c5-d588-9ae76d52fd5c"
      },
      "source": [
        "# Your Code Here\n",
        "\n",
        "values_soup = [i.text.split('\\n')[3:-1] for i in rows[1:]]\n",
        "values_soup\n",
        "type(values_soup[0][0])"
      ],
      "execution_count": 46,
      "outputs": [
        {
          "output_type": "execute_result",
          "data": {
            "text/plain": [
              "str"
            ]
          },
          "metadata": {
            "tags": []
          },
          "execution_count": 46
        }
      ]
    },
    {
      "cell_type": "code",
      "metadata": {
        "id": "0wyrl0aPCQmV",
        "colab_type": "code",
        "colab": {
          "base_uri": "https://localhost:8080/",
          "height": 33
        },
        "outputId": "7123ead7-c65f-4dcd-9b12-be56ffb730f2"
      },
      "source": [
        "values = []\n",
        "for i in values_soup:\n",
        "  for j in i:\n",
        "    if j!='N/A' :\n",
        "      j=j.replace('%','')\n",
        "      values.append(int(j)) \n",
        "    else :\n",
        "      values.append(None)\n",
        "values"
      ],
      "execution_count": 45,
      "outputs": [
        {
          "output_type": "execute_result",
          "data": {
            "text/plain": [
              "[21, 13, 5, 9, 5, 12, 11, 7, 16, 37, 38, 64, 8, 3, 9, 12, 32, None]"
            ]
          },
          "metadata": {
            "tags": []
          },
          "execution_count": 45
        }
      ]
    },
    {
      "cell_type": "markdown",
      "metadata": {
        "colab_type": "text",
        "id": "0in8D_gdlV-p"
      },
      "source": [
        "The problem with the list above is that the values lost their grouping.\n",
        "\n",
        "The `zip` function is used to combine two sequences element wise. So `zip([1,2,3], [4,5,6])` would return `[(1, 4), (2, 5), (3, 6)]`.\n",
        "\n",
        "This is the first time we see a container bounded by parenthesis. This is a tuple, which you can think of as an immutable list (meaning you can't add, remove, or change elements from it). Otherwise they work just like lists and can be indexed, sliced, etc."
      ]
    },
    {
      "cell_type": "code",
      "metadata": {
        "colab_type": "code",
        "id": "9U6avqTylV-q",
        "colab": {
          "base_uri": "https://localhost:8080/",
          "height": 33
        },
        "outputId": "57f37b9a-930e-4d7f-e7b0-3fb783888b66"
      },
      "source": [
        "stacked_values = zip(*[values[i::3] for i in range(len(columns))])\n",
        "stacked_values"
      ],
      "execution_count": 47,
      "outputs": [
        {
          "output_type": "execute_result",
          "data": {
            "text/plain": [
              "<zip at 0x7f5277021b48>"
            ]
          },
          "metadata": {
            "tags": []
          },
          "execution_count": 47
        }
      ]
    },
    {
      "cell_type": "code",
      "metadata": {
        "colab_type": "code",
        "id": "5DkiF6GelV-s",
        "colab": {
          "base_uri": "https://localhost:8080/",
          "height": 174
        },
        "outputId": "94d3bf61-9cbb-4721-c9b7-d0eb155cc177"
      },
      "source": [
        "# Here's the original HTML table.\n",
        "HTML(table_html)"
      ],
      "execution_count": 48,
      "outputs": [
        {
          "output_type": "execute_result",
          "data": {
            "text/html": [
              "<table class=\"wikitable\" style=\"text-align:center; float:right; font-size:85%; margin-right:2em;\">\n",
              "<caption><i>Demographics of student body (Fall 2019)</i><sup class=\"reference\" id=\"cite_ref-Head_count_159-0\"><a href=\"#cite_note-Head_count-159\">[159]</a></sup><sup class=\"reference\" id=\"cite_ref-160\"><a href=\"#cite_note-160\">[160]</a></sup><sup class=\"reference\" id=\"cite_ref-161\"><a href=\"#cite_note-161\">[161]</a></sup><sup class=\"reference\" id=\"cite_ref-162\"><a href=\"#cite_note-162\">[162]</a></sup>\n",
              "</caption>\n",
              "<tbody><tr>\n",
              "<th></th>\n",
              "<th>Undergrad</th>\n",
              "<th>Grad/prof</th>\n",
              "<th>US census\n",
              "</th></tr>\n",
              "<tr>\n",
              "<th>Asian\n",
              "</th>\n",
              "<td>21%</td>\n",
              "<td>13%</td>\n",
              "<td>5%\n",
              "</td></tr>\n",
              "<tr>\n",
              "<th>Black\n",
              "</th>\n",
              "<td>9%</td>\n",
              "<td>5%</td>\n",
              "<td>12%\n",
              "</td></tr>\n",
              "<tr>\n",
              "<th>Hispanic or Latino\n",
              "</th>\n",
              "<td>11%</td>\n",
              "<td>7%</td>\n",
              "<td>16%\n",
              "</td></tr>\n",
              "<tr>\n",
              "<th>White\n",
              "</th>\n",
              "<td>37%</td>\n",
              "<td>38%</td>\n",
              "<td>64%\n",
              "</td></tr>\n",
              "<tr>\n",
              "<th>Two or more races\n",
              "</th>\n",
              "<td>8%</td>\n",
              "<td>3%</td>\n",
              "<td>9%\n",
              "</td></tr>\n",
              "<tr>\n",
              "<th>International\n",
              "</th>\n",
              "<td>12%</td>\n",
              "<td>32%</td>\n",
              "<td>N/A\n",
              "</td></tr></tbody></table>"
            ],
            "text/plain": [
              "<IPython.core.display.HTML object>"
            ]
          },
          "metadata": {
            "tags": []
          },
          "execution_count": 48
        }
      ]
    },
    {
      "cell_type": "markdown",
      "metadata": {
        "colab_type": "text",
        "id": "HBMkym2IlV-u"
      },
      "source": [
        "---\n",
        "\n",
        "## Pandas data structures\n",
        "\n",
        "### DataFrames\n",
        "\n",
        "To recap, we now have three data structures holding our column names, our row (index) names, and our values grouped by index.\n",
        "\n",
        "We will now load this data into a Pandas DataFrame. The loading process is pretty straightforward, and all we need to do is tell Pandas which container goes where."
      ]
    },
    {
      "cell_type": "code",
      "metadata": {
        "colab_type": "code",
        "id": "Hf3F1YKRlV-v",
        "colab": {}
      },
      "source": [
        "import pandas as pd"
      ],
      "execution_count": 0,
      "outputs": []
    },
    {
      "cell_type": "markdown",
      "metadata": {
        "colab_type": "text",
        "id": "Z7_L6B71lV-x"
      },
      "source": [
        "# 11) Create the DataFrame\n",
        "### Use stacked_values, columns and indexes to create the Demographics DataFrame\n",
        "#### Name the DataFrame df"
      ]
    },
    {
      "cell_type": "code",
      "metadata": {
        "id": "UbvV5rZWDlb0",
        "colab_type": "code",
        "colab": {
          "base_uri": "https://localhost:8080/",
          "height": 33
        },
        "outputId": "e8aa8f89-901c-47e0-a051-50a23293adb3"
      },
      "source": [
        "k = list(stacked_values)\n",
        "k"
      ],
      "execution_count": 50,
      "outputs": [
        {
          "output_type": "execute_result",
          "data": {
            "text/plain": [
              "[(21, 13, 5), (9, 5, 12), (11, 7, 16), (37, 38, 64), (8, 3, 9), (12, 32, None)]"
            ]
          },
          "metadata": {
            "tags": []
          },
          "execution_count": 50
        }
      ]
    },
    {
      "cell_type": "code",
      "metadata": {
        "colab_type": "code",
        "id": "fYG5DvVBlV-x",
        "colab": {
          "base_uri": "https://localhost:8080/",
          "height": 226
        },
        "outputId": "c5983a9b-aa76-46c4-85b1-6ee48b8ac0a1"
      },
      "source": [
        "# Your Code Here\n",
        "df = pd.DataFrame(k,index=indexes,columns=columns)\n",
        "df"
      ],
      "execution_count": 51,
      "outputs": [
        {
          "output_type": "execute_result",
          "data": {
            "text/html": [
              "<div>\n",
              "<style scoped>\n",
              "    .dataframe tbody tr th:only-of-type {\n",
              "        vertical-align: middle;\n",
              "    }\n",
              "\n",
              "    .dataframe tbody tr th {\n",
              "        vertical-align: top;\n",
              "    }\n",
              "\n",
              "    .dataframe thead th {\n",
              "        text-align: right;\n",
              "    }\n",
              "</style>\n",
              "<table border=\"1\" class=\"dataframe\">\n",
              "  <thead>\n",
              "    <tr style=\"text-align: right;\">\n",
              "      <th></th>\n",
              "      <th>Undergrad</th>\n",
              "      <th>Grad/prof</th>\n",
              "      <th>US census</th>\n",
              "    </tr>\n",
              "  </thead>\n",
              "  <tbody>\n",
              "    <tr>\n",
              "      <th>Asian</th>\n",
              "      <td>21</td>\n",
              "      <td>13</td>\n",
              "      <td>5.0</td>\n",
              "    </tr>\n",
              "    <tr>\n",
              "      <th>Black</th>\n",
              "      <td>9</td>\n",
              "      <td>5</td>\n",
              "      <td>12.0</td>\n",
              "    </tr>\n",
              "    <tr>\n",
              "      <th>Hispanic or Latino</th>\n",
              "      <td>11</td>\n",
              "      <td>7</td>\n",
              "      <td>16.0</td>\n",
              "    </tr>\n",
              "    <tr>\n",
              "      <th>White</th>\n",
              "      <td>37</td>\n",
              "      <td>38</td>\n",
              "      <td>64.0</td>\n",
              "    </tr>\n",
              "    <tr>\n",
              "      <th>Two or more races</th>\n",
              "      <td>8</td>\n",
              "      <td>3</td>\n",
              "      <td>9.0</td>\n",
              "    </tr>\n",
              "    <tr>\n",
              "      <th>International</th>\n",
              "      <td>12</td>\n",
              "      <td>32</td>\n",
              "      <td>NaN</td>\n",
              "    </tr>\n",
              "  </tbody>\n",
              "</table>\n",
              "</div>"
            ],
            "text/plain": [
              "                    Undergrad  Grad/prof  US census\n",
              "Asian                      21         13        5.0\n",
              "Black                       9          5       12.0\n",
              "Hispanic or Latino         11          7       16.0\n",
              "White                      37         38       64.0\n",
              "Two or more races           8          3        9.0\n",
              "International              12         32        NaN"
            ]
          },
          "metadata": {
            "tags": []
          },
          "execution_count": 51
        }
      ]
    },
    {
      "cell_type": "code",
      "metadata": {
        "colab_type": "code",
        "id": "bWEzcjnilV-z",
        "colab": {
          "base_uri": "https://localhost:8080/",
          "height": 174
        },
        "outputId": "16b7ee19-ba0c-46c0-e37d-559dba76b4ff"
      },
      "source": [
        "# Here's the original HTML table.\n",
        "HTML(table_html)"
      ],
      "execution_count": 52,
      "outputs": [
        {
          "output_type": "execute_result",
          "data": {
            "text/html": [
              "<table class=\"wikitable\" style=\"text-align:center; float:right; font-size:85%; margin-right:2em;\">\n",
              "<caption><i>Demographics of student body (Fall 2019)</i><sup class=\"reference\" id=\"cite_ref-Head_count_159-0\"><a href=\"#cite_note-Head_count-159\">[159]</a></sup><sup class=\"reference\" id=\"cite_ref-160\"><a href=\"#cite_note-160\">[160]</a></sup><sup class=\"reference\" id=\"cite_ref-161\"><a href=\"#cite_note-161\">[161]</a></sup><sup class=\"reference\" id=\"cite_ref-162\"><a href=\"#cite_note-162\">[162]</a></sup>\n",
              "</caption>\n",
              "<tbody><tr>\n",
              "<th></th>\n",
              "<th>Undergrad</th>\n",
              "<th>Grad/prof</th>\n",
              "<th>US census\n",
              "</th></tr>\n",
              "<tr>\n",
              "<th>Asian\n",
              "</th>\n",
              "<td>21%</td>\n",
              "<td>13%</td>\n",
              "<td>5%\n",
              "</td></tr>\n",
              "<tr>\n",
              "<th>Black\n",
              "</th>\n",
              "<td>9%</td>\n",
              "<td>5%</td>\n",
              "<td>12%\n",
              "</td></tr>\n",
              "<tr>\n",
              "<th>Hispanic or Latino\n",
              "</th>\n",
              "<td>11%</td>\n",
              "<td>7%</td>\n",
              "<td>16%\n",
              "</td></tr>\n",
              "<tr>\n",
              "<th>White\n",
              "</th>\n",
              "<td>37%</td>\n",
              "<td>38%</td>\n",
              "<td>64%\n",
              "</td></tr>\n",
              "<tr>\n",
              "<th>Two or more races\n",
              "</th>\n",
              "<td>8%</td>\n",
              "<td>3%</td>\n",
              "<td>9%\n",
              "</td></tr>\n",
              "<tr>\n",
              "<th>International\n",
              "</th>\n",
              "<td>12%</td>\n",
              "<td>32%</td>\n",
              "<td>N/A\n",
              "</td></tr></tbody></table>"
            ],
            "text/plain": [
              "<IPython.core.display.HTML object>"
            ]
          },
          "metadata": {
            "tags": []
          },
          "execution_count": 52
        }
      ]
    },
    {
      "cell_type": "markdown",
      "metadata": {
        "colab_type": "text",
        "id": "F8iqHSV1lV-2"
      },
      "source": [
        "---\n",
        "\n",
        "### DataFrame cleanup\n",
        "\n",
        "Our DataFrame looks nice; but does it have the right data types?"
      ]
    },
    {
      "cell_type": "markdown",
      "metadata": {
        "colab_type": "text",
        "id": "bnZ8vzR5lV-2"
      },
      "source": [
        "# 12) Display the datatypes of all the columns"
      ]
    },
    {
      "cell_type": "code",
      "metadata": {
        "colab_type": "code",
        "id": "6PjFH677lV-3",
        "colab": {
          "base_uri": "https://localhost:8080/",
          "height": 84
        },
        "outputId": "07a3325a-f54b-4a04-a50d-20910bd1ea5e"
      },
      "source": [
        "# Your Code Here\n",
        "df.dtypes"
      ],
      "execution_count": 53,
      "outputs": [
        {
          "output_type": "execute_result",
          "data": {
            "text/plain": [
              "Undergrad      int64\n",
              "Grad/prof      int64\n",
              "US census    float64\n",
              "dtype: object"
            ]
          },
          "metadata": {
            "tags": []
          },
          "execution_count": 53
        }
      ]
    },
    {
      "cell_type": "markdown",
      "metadata": {
        "colab_type": "text",
        "id": "E0BI9uITlV-7"
      },
      "source": [
        "The `U.S Census` looks a little strange. It should have been evaluated as an integer, but instead it came in as a float. It probably has something to do with the `NaN` value...\n",
        "\n",
        "In fact, missing values can mess up a lot of our calculations, and some function don't work at all when `NaN` are present. So we should probably clean this up.\n",
        "\n",
        "One way to do that is by dropping the rows that have missing values:"
      ]
    },
    {
      "cell_type": "markdown",
      "metadata": {
        "id": "l8dwgXPzE2b2",
        "colab_type": "text"
      },
      "source": [
        "# 13) Drop the column containing NaN value.\n",
        "### After droping the row store it in df_clean_column"
      ]
    },
    {
      "cell_type": "code",
      "metadata": {
        "colab_type": "code",
        "id": "agY6jks7lV-9",
        "outputId": "4b13e6ef-d22a-4fa8-be2a-ae59ef22c20c",
        "colab": {
          "base_uri": "https://localhost:8080/",
          "height": 195
        }
      },
      "source": [
        "# Your Code Here\n",
        "df_clean_column = df.dropna()\n",
        "df_clean_column"
      ],
      "execution_count": 0,
      "outputs": [
        {
          "output_type": "execute_result",
          "data": {
            "text/html": [
              "<div>\n",
              "<style scoped>\n",
              "    .dataframe tbody tr th:only-of-type {\n",
              "        vertical-align: middle;\n",
              "    }\n",
              "\n",
              "    .dataframe tbody tr th {\n",
              "        vertical-align: top;\n",
              "    }\n",
              "\n",
              "    .dataframe thead th {\n",
              "        text-align: right;\n",
              "    }\n",
              "</style>\n",
              "<table border=\"1\" class=\"dataframe\">\n",
              "  <thead>\n",
              "    <tr style=\"text-align: right;\">\n",
              "      <th></th>\n",
              "      <th>Undergrad</th>\n",
              "      <th>Grad/prof</th>\n",
              "      <th>US census</th>\n",
              "    </tr>\n",
              "  </thead>\n",
              "  <tbody>\n",
              "    <tr>\n",
              "      <th>Asian</th>\n",
              "      <td>21</td>\n",
              "      <td>13</td>\n",
              "      <td>5.0</td>\n",
              "    </tr>\n",
              "    <tr>\n",
              "      <th>Black</th>\n",
              "      <td>9</td>\n",
              "      <td>5</td>\n",
              "      <td>12.0</td>\n",
              "    </tr>\n",
              "    <tr>\n",
              "      <th>Hispanic or Latino</th>\n",
              "      <td>11</td>\n",
              "      <td>7</td>\n",
              "      <td>16.0</td>\n",
              "    </tr>\n",
              "    <tr>\n",
              "      <th>White</th>\n",
              "      <td>37</td>\n",
              "      <td>38</td>\n",
              "      <td>64.0</td>\n",
              "    </tr>\n",
              "    <tr>\n",
              "      <th>Two or more races</th>\n",
              "      <td>8</td>\n",
              "      <td>3</td>\n",
              "      <td>9.0</td>\n",
              "    </tr>\n",
              "  </tbody>\n",
              "</table>\n",
              "</div>"
            ],
            "text/plain": [
              "                    Undergrad  Grad/prof  US census\n",
              "Asian                      21         13        5.0\n",
              "Black                       9          5       12.0\n",
              "Hispanic or Latino         11          7       16.0\n",
              "White                      37         38       64.0\n",
              "Two or more races           8          3        9.0"
            ]
          },
          "metadata": {
            "tags": []
          },
          "execution_count": 54
        }
      ]
    },
    {
      "cell_type": "markdown",
      "metadata": {
        "colab_type": "text",
        "id": "nrOc2WkxlV_B"
      },
      "source": [
        "We will take a less radical approach and replace the missing value with a zero. In this case this solution makes sense, since 0% value meaningful in this context. We will also transform all the values to integers at the same time."
      ]
    },
    {
      "cell_type": "markdown",
      "metadata": {
        "colab_type": "text",
        "id": "dleQ3exZlV_B"
      },
      "source": [
        "# 13) Fill the NaN value with 0 \n",
        "### After filling the NaN value with 0 store it in df_clean"
      ]
    },
    {
      "cell_type": "code",
      "metadata": {
        "colab_type": "code",
        "id": "iE-C7eA1lV_B",
        "colab": {
          "base_uri": "https://localhost:8080/",
          "height": 393
        },
        "outputId": "47fed53e-fb07-40a2-881d-ea949bbafaea"
      },
      "source": [
        "# Your Code Here\n",
        "df_clean = df.copy()\n",
        "print(df_clean.iloc[5,2])\n",
        "df_clean.iloc[5,2] = 0\n",
        "# these to are diff imp\n",
        "print(df_clean[5:])\n",
        "print(df_clean['US census'])\n",
        "df_clean['US census'] = df_clean['US census'].astype('int64')\n",
        "df_clean "
      ],
      "execution_count": 69,
      "outputs": [
        {
          "output_type": "stream",
          "text": [
            "nan\n",
            "               Undergrad  Grad/prof  US census\n",
            "International         12         32        0.0\n",
            "Asian                  5.0\n",
            "Black                 12.0\n",
            "Hispanic or Latino    16.0\n",
            "White                 64.0\n",
            "Two or more races      9.0\n",
            "International          0.0\n",
            "Name: US census, dtype: float64\n"
          ],
          "name": "stdout"
        },
        {
          "output_type": "execute_result",
          "data": {
            "text/html": [
              "<div>\n",
              "<style scoped>\n",
              "    .dataframe tbody tr th:only-of-type {\n",
              "        vertical-align: middle;\n",
              "    }\n",
              "\n",
              "    .dataframe tbody tr th {\n",
              "        vertical-align: top;\n",
              "    }\n",
              "\n",
              "    .dataframe thead th {\n",
              "        text-align: right;\n",
              "    }\n",
              "</style>\n",
              "<table border=\"1\" class=\"dataframe\">\n",
              "  <thead>\n",
              "    <tr style=\"text-align: right;\">\n",
              "      <th></th>\n",
              "      <th>Undergrad</th>\n",
              "      <th>Grad/prof</th>\n",
              "      <th>US census</th>\n",
              "    </tr>\n",
              "  </thead>\n",
              "  <tbody>\n",
              "    <tr>\n",
              "      <th>Asian</th>\n",
              "      <td>21</td>\n",
              "      <td>13</td>\n",
              "      <td>5</td>\n",
              "    </tr>\n",
              "    <tr>\n",
              "      <th>Black</th>\n",
              "      <td>9</td>\n",
              "      <td>5</td>\n",
              "      <td>12</td>\n",
              "    </tr>\n",
              "    <tr>\n",
              "      <th>Hispanic or Latino</th>\n",
              "      <td>11</td>\n",
              "      <td>7</td>\n",
              "      <td>16</td>\n",
              "    </tr>\n",
              "    <tr>\n",
              "      <th>White</th>\n",
              "      <td>37</td>\n",
              "      <td>38</td>\n",
              "      <td>64</td>\n",
              "    </tr>\n",
              "    <tr>\n",
              "      <th>Two or more races</th>\n",
              "      <td>8</td>\n",
              "      <td>3</td>\n",
              "      <td>9</td>\n",
              "    </tr>\n",
              "    <tr>\n",
              "      <th>International</th>\n",
              "      <td>12</td>\n",
              "      <td>32</td>\n",
              "      <td>0</td>\n",
              "    </tr>\n",
              "  </tbody>\n",
              "</table>\n",
              "</div>"
            ],
            "text/plain": [
              "                    Undergrad  Grad/prof  US census\n",
              "Asian                      21         13          5\n",
              "Black                       9          5         12\n",
              "Hispanic or Latino         11          7         16\n",
              "White                      37         38         64\n",
              "Two or more races           8          3          9\n",
              "International              12         32          0"
            ]
          },
          "metadata": {
            "tags": []
          },
          "execution_count": 69
        }
      ]
    },
    {
      "cell_type": "code",
      "metadata": {
        "colab_type": "code",
        "id": "Bg9w39lplV_D",
        "colab": {
          "base_uri": "https://localhost:8080/",
          "height": 84
        },
        "outputId": "8b1c1f10-c45c-4b26-fca4-399c654c25ce"
      },
      "source": [
        "df_clean.dtypes"
      ],
      "execution_count": 70,
      "outputs": [
        {
          "output_type": "execute_result",
          "data": {
            "text/plain": [
              "Undergrad    int64\n",
              "Grad/prof    int64\n",
              "US census    int64\n",
              "dtype: object"
            ]
          },
          "metadata": {
            "tags": []
          },
          "execution_count": 70
        }
      ]
    },
    {
      "cell_type": "markdown",
      "metadata": {
        "colab_type": "text",
        "id": "psKN1wZ6lV_F"
      },
      "source": [
        "Now our table looks good!\n"
      ]
    },
    {
      "cell_type": "markdown",
      "metadata": {
        "colab_type": "text",
        "id": "fh9FVU-UlV_G"
      },
      "source": [
        "---\n",
        "\n",
        "### NumPy\n",
        "\n",
        "Pandas is awesome, but it is built on top of another library the we will use extensively during the course. NumPy implements new data types and vectorized functions."
      ]
    },
    {
      "cell_type": "code",
      "metadata": {
        "colab_type": "code",
        "id": "jUep-9NllV_G",
        "colab": {}
      },
      "source": [
        "import numpy as np"
      ],
      "execution_count": 0,
      "outputs": []
    },
    {
      "cell_type": "markdown",
      "metadata": {
        "colab_type": "text",
        "id": "lxkkHR_3lV_I"
      },
      "source": [
        "The `values` method of the DataFrame will return a two-dimensional `array` with the DataFrame values. The `array` is a NumPy structure that we will be using a lot during this class."
      ]
    },
    {
      "cell_type": "code",
      "metadata": {
        "colab_type": "code",
        "id": "DG0k2_UVlV_I",
        "colab": {
          "base_uri": "https://localhost:8080/",
          "height": 117
        },
        "outputId": "9366a3c5-f796-47a8-d07d-c52f47ed4b68"
      },
      "source": [
        "df_clean.values"
      ],
      "execution_count": 72,
      "outputs": [
        {
          "output_type": "execute_result",
          "data": {
            "text/plain": [
              "array([[21, 13,  5],\n",
              "       [ 9,  5, 12],\n",
              "       [11,  7, 16],\n",
              "       [37, 38, 64],\n",
              "       [ 8,  3,  9],\n",
              "       [12, 32,  0]])"
            ]
          },
          "metadata": {
            "tags": []
          },
          "execution_count": 72
        }
      ]
    },
    {
      "cell_type": "markdown",
      "metadata": {
        "colab_type": "text",
        "id": "Fi-YMfJ5lV_K"
      },
      "source": [
        "Let's see if this is indeed a NumPy type..."
      ]
    },
    {
      "cell_type": "code",
      "metadata": {
        "colab_type": "code",
        "id": "Y99gwFjKlV_K",
        "colab": {
          "base_uri": "https://localhost:8080/",
          "height": 33
        },
        "outputId": "e7f0de04-b434-4d92-ccae-7c5fdbc7e1a2"
      },
      "source": [
        "type(df_clean.values)"
      ],
      "execution_count": 73,
      "outputs": [
        {
          "output_type": "execute_result",
          "data": {
            "text/plain": [
              "numpy.ndarray"
            ]
          },
          "metadata": {
            "tags": []
          },
          "execution_count": 73
        }
      ]
    },
    {
      "cell_type": "markdown",
      "metadata": {
        "colab_type": "text",
        "id": "3t1WCFI_lV_M"
      },
      "source": [
        "NumPy also offers many functions that can operate directly on the DataFrame."
      ]
    },
    {
      "cell_type": "markdown",
      "metadata": {
        "colab_type": "text",
        "id": "gfRSm1AolV_N"
      },
      "source": [
        "# 14) Find the mean for the column 'Undergrad' from the cleaned dataset"
      ]
    },
    {
      "cell_type": "code",
      "metadata": {
        "colab_type": "code",
        "id": "4Ae8SICFlV_N",
        "colab": {
          "base_uri": "https://localhost:8080/",
          "height": 33
        },
        "outputId": "011a6427-c982-432a-b81a-a3ccc195a0e6"
      },
      "source": [
        "# Your Code Here\n",
        "df_clean['Undergrad'].mean(axis =0)"
      ],
      "execution_count": 74,
      "outputs": [
        {
          "output_type": "execute_result",
          "data": {
            "text/plain": [
              "16.333333333333332"
            ]
          },
          "metadata": {
            "tags": []
          },
          "execution_count": 74
        }
      ]
    },
    {
      "cell_type": "markdown",
      "metadata": {
        "colab_type": "text",
        "id": "U1aE66TMlV_O"
      },
      "source": [
        "# 15) Find the standard deviation for all the columns of the cleaned dataset"
      ]
    },
    {
      "cell_type": "code",
      "metadata": {
        "colab_type": "code",
        "id": "6GOMSOKnlV_R",
        "colab": {
          "base_uri": "https://localhost:8080/",
          "height": 84
        },
        "outputId": "2991ca19-9a9c-41be-d090-ad904e30e21b"
      },
      "source": [
        "# Your Code Here\n",
        "df_clean.std(axis = 0)"
      ],
      "execution_count": 75,
      "outputs": [
        {
          "output_type": "execute_result",
          "data": {
            "text/plain": [
              "Undergrad    11.129540\n",
              "Grad/prof    14.962175\n",
              "US census    23.363790\n",
              "dtype: float64"
            ]
          },
          "metadata": {
            "tags": []
          },
          "execution_count": 75
        }
      ]
    },
    {
      "cell_type": "markdown",
      "metadata": {
        "colab_type": "text",
        "id": "ME4HgBFWIUHi"
      },
      "source": [
        "### Congrats on Completing the Assignment. Now proceed to the following link to attempt a small quiz based on this assignment. \n",
        "\n",
        "https://forms.gle/6XTvyzT7rhprgkbi7 \n",
        "\n",
        "### Remember completion of this assignment remains incomplete if you don't attempt the quiz. So don't forget to do the same."
      ]
    },
    {
      "cell_type": "code",
      "metadata": {
        "id": "C9tHTHFi68ca",
        "colab_type": "code",
        "colab": {
          "base_uri": "https://localhost:8080/",
          "height": 33
        },
        "outputId": "8e1dbc64-59a6-4db8-da04-719d740c321e"
      },
      "source": [
        "df_clean['Undergrad'].corr(df_clean['Grad/prof'])"
      ],
      "execution_count": 78,
      "outputs": [
        {
          "output_type": "execute_result",
          "data": {
            "text/plain": [
              "0.7306336464623144"
            ]
          },
          "metadata": {
            "tags": []
          },
          "execution_count": 78
        }
      ]
    },
    {
      "cell_type": "code",
      "metadata": {
        "id": "5uoYfOYZIp4o",
        "colab_type": "code",
        "colab": {
          "base_uri": "https://localhost:8080/",
          "height": 33
        },
        "outputId": "7d010721-970a-4fac-c629-3a746b728a4c"
      },
      "source": [
        "df_clean['Undergrad'].corr(df_clean['US census'])"
      ],
      "execution_count": 79,
      "outputs": [
        {
          "output_type": "execute_result",
          "data": {
            "text/plain": [
              "0.8442672811430659"
            ]
          },
          "metadata": {
            "tags": []
          },
          "execution_count": 79
        }
      ]
    },
    {
      "cell_type": "code",
      "metadata": {
        "id": "ghDJBb3RIyb0",
        "colab_type": "code",
        "colab": {
          "base_uri": "https://localhost:8080/",
          "height": 33
        },
        "outputId": "c454bcdf-f863-4a37-e30c-ad3ed6e286bd"
      },
      "source": [
        "#range\n",
        "df_clean['Grad/prof'].max()-df_clean['Grad/prof'].min()"
      ],
      "execution_count": 83,
      "outputs": [
        {
          "output_type": "execute_result",
          "data": {
            "text/plain": [
              "35"
            ]
          },
          "metadata": {
            "tags": []
          },
          "execution_count": 83
        }
      ]
    },
    {
      "cell_type": "code",
      "metadata": {
        "id": "_1YtJCi4Jjra",
        "colab_type": "code",
        "colab": {
          "base_uri": "https://localhost:8080/",
          "height": 226
        },
        "outputId": "2219177b-bb92-41eb-fc1a-f864435c3148"
      },
      "source": [
        "X = df_clean/df_clean.sum()\n",
        "X"
      ],
      "execution_count": 88,
      "outputs": [
        {
          "output_type": "execute_result",
          "data": {
            "text/html": [
              "<div>\n",
              "<style scoped>\n",
              "    .dataframe tbody tr th:only-of-type {\n",
              "        vertical-align: middle;\n",
              "    }\n",
              "\n",
              "    .dataframe tbody tr th {\n",
              "        vertical-align: top;\n",
              "    }\n",
              "\n",
              "    .dataframe thead th {\n",
              "        text-align: right;\n",
              "    }\n",
              "</style>\n",
              "<table border=\"1\" class=\"dataframe\">\n",
              "  <thead>\n",
              "    <tr style=\"text-align: right;\">\n",
              "      <th></th>\n",
              "      <th>Undergrad</th>\n",
              "      <th>Grad/prof</th>\n",
              "      <th>US census</th>\n",
              "    </tr>\n",
              "  </thead>\n",
              "  <tbody>\n",
              "    <tr>\n",
              "      <th>Asian</th>\n",
              "      <td>0.214286</td>\n",
              "      <td>0.132653</td>\n",
              "      <td>0.047170</td>\n",
              "    </tr>\n",
              "    <tr>\n",
              "      <th>Black</th>\n",
              "      <td>0.091837</td>\n",
              "      <td>0.051020</td>\n",
              "      <td>0.113208</td>\n",
              "    </tr>\n",
              "    <tr>\n",
              "      <th>Hispanic or Latino</th>\n",
              "      <td>0.112245</td>\n",
              "      <td>0.071429</td>\n",
              "      <td>0.150943</td>\n",
              "    </tr>\n",
              "    <tr>\n",
              "      <th>White</th>\n",
              "      <td>0.377551</td>\n",
              "      <td>0.387755</td>\n",
              "      <td>0.603774</td>\n",
              "    </tr>\n",
              "    <tr>\n",
              "      <th>Two or more races</th>\n",
              "      <td>0.081633</td>\n",
              "      <td>0.030612</td>\n",
              "      <td>0.084906</td>\n",
              "    </tr>\n",
              "    <tr>\n",
              "      <th>International</th>\n",
              "      <td>0.122449</td>\n",
              "      <td>0.326531</td>\n",
              "      <td>0.000000</td>\n",
              "    </tr>\n",
              "  </tbody>\n",
              "</table>\n",
              "</div>"
            ],
            "text/plain": [
              "                    Undergrad  Grad/prof  US census\n",
              "Asian                0.214286   0.132653   0.047170\n",
              "Black                0.091837   0.051020   0.113208\n",
              "Hispanic or Latino   0.112245   0.071429   0.150943\n",
              "White                0.377551   0.387755   0.603774\n",
              "Two or more races    0.081633   0.030612   0.084906\n",
              "International        0.122449   0.326531   0.000000"
            ]
          },
          "metadata": {
            "tags": []
          },
          "execution_count": 88
        }
      ]
    },
    {
      "cell_type": "code",
      "metadata": {
        "id": "nOZ3KEfIJE_p",
        "colab_type": "code",
        "colab": {
          "base_uri": "https://localhost:8080/",
          "height": 33
        },
        "outputId": "d4410d25-e49c-4c98-e3fc-a11176860efe"
      },
      "source": [
        "#find max in row\n",
        "X['Undergrad'].idxmax(axis=1)"
      ],
      "execution_count": 93,
      "outputs": [
        {
          "output_type": "execute_result",
          "data": {
            "text/plain": [
              "'White'"
            ]
          },
          "metadata": {
            "tags": []
          },
          "execution_count": 93
        }
      ]
    },
    {
      "cell_type": "code",
      "metadata": {
        "id": "_SoNiq59KWRv",
        "colab_type": "code",
        "colab": {
          "base_uri": "https://localhost:8080/",
          "height": 226
        },
        "outputId": "fcb350bd-5e4c-4019-c19b-3b87f1e2200d"
      },
      "source": [
        "X.filter(items=['Grad/prof'])"
      ],
      "execution_count": 99,
      "outputs": [
        {
          "output_type": "execute_result",
          "data": {
            "text/html": [
              "<div>\n",
              "<style scoped>\n",
              "    .dataframe tbody tr th:only-of-type {\n",
              "        vertical-align: middle;\n",
              "    }\n",
              "\n",
              "    .dataframe tbody tr th {\n",
              "        vertical-align: top;\n",
              "    }\n",
              "\n",
              "    .dataframe thead th {\n",
              "        text-align: right;\n",
              "    }\n",
              "</style>\n",
              "<table border=\"1\" class=\"dataframe\">\n",
              "  <thead>\n",
              "    <tr style=\"text-align: right;\">\n",
              "      <th></th>\n",
              "      <th>Grad/prof</th>\n",
              "    </tr>\n",
              "  </thead>\n",
              "  <tbody>\n",
              "    <tr>\n",
              "      <th>Asian</th>\n",
              "      <td>0.132653</td>\n",
              "    </tr>\n",
              "    <tr>\n",
              "      <th>Black</th>\n",
              "      <td>0.051020</td>\n",
              "    </tr>\n",
              "    <tr>\n",
              "      <th>Hispanic or Latino</th>\n",
              "      <td>0.071429</td>\n",
              "    </tr>\n",
              "    <tr>\n",
              "      <th>White</th>\n",
              "      <td>0.387755</td>\n",
              "    </tr>\n",
              "    <tr>\n",
              "      <th>Two or more races</th>\n",
              "      <td>0.030612</td>\n",
              "    </tr>\n",
              "    <tr>\n",
              "      <th>International</th>\n",
              "      <td>0.326531</td>\n",
              "    </tr>\n",
              "  </tbody>\n",
              "</table>\n",
              "</div>"
            ],
            "text/plain": [
              "                    Grad/prof\n",
              "Asian                0.132653\n",
              "Black                0.051020\n",
              "Hispanic or Latino   0.071429\n",
              "White                0.387755\n",
              "Two or more races    0.030612\n",
              "International        0.326531"
            ]
          },
          "metadata": {
            "tags": []
          },
          "execution_count": 99
        }
      ]
    },
    {
      "cell_type": "code",
      "metadata": {
        "id": "60oQXLbqLXB5",
        "colab_type": "code",
        "colab": {}
      },
      "source": [
        ""
      ],
      "execution_count": 0,
      "outputs": []
    }
  ]
}